{
 "cells": [
  {
   "cell_type": "markdown",
   "metadata": {},
   "source": [
    "# SMAI Mini Project 2"
   ]
  },
  {
   "cell_type": "markdown",
   "metadata": {},
   "source": [
    "## Importing libraries"
   ]
  },
  {
   "cell_type": "code",
   "execution_count": 3,
   "metadata": {},
   "outputs": [],
   "source": [
    "import os\n",
    "import matplotlib.pyplot as plt\n",
    "import tensorflow as tf\n",
    "from tensorflow import keras\n",
    "import numpy as np\n",
    "import sklearn as sk\n",
    "from sklearn.decomposition import PCA\n",
    "from sklearn.discriminant_analysis import LinearDiscriminantAnalysis\n",
    "from sklearn.manifold import TSNE\n",
    "from sklearn import svm\n",
    "from sklearn import linear_model\n",
    "from sklearn.neural_network import MLPClassifier\n",
    "from sklearn import tree\n",
    "from sklearn.metrics import accuracy_score, f1_score\n",
    "from sklearn import grid_search"
   ]
  },
  {
   "cell_type": "markdown",
   "metadata": {},
   "source": [
    "## Load CIFAR-10 Data"
   ]
  },
  {
   "cell_type": "code",
   "execution_count": 5,
   "metadata": {},
   "outputs": [],
   "source": [
    "\n",
    "def load_cifar10_data(train_num=-1, test_num=-1):\n",
    "    (x_train, y_train), (x_test, y_test) = tf.keras.datasets.cifar10.load_data()\n",
    "    print(\"Total Shape of Train Data:\", np.shape(x_train))\n",
    "    print(\"Total Shape of Train Label:\", np.shape(y_train))\n",
    "    print(\"Total Shape of Test Data:\", np.shape(x_test))\n",
    "    print(\"Total Shape of Test Label:\", np.shape(y_test))\n",
    "    if train_num == -1:\n",
    "        train_num = np.shape(x_train)[0]\n",
    "    if test_num == -1:\n",
    "        test_num = np.shape(x_test)[0]\n",
    "    return x_train[0:train_num, :], y_train[0:train_num, :], x_test[0:test_num, :], y_test[0:test_num, :]\n"
   ]
  },
  {
   "cell_type": "markdown",
   "metadata": {},
   "source": [
    "## Making representations"
   ]
  },
  {
   "cell_type": "code",
   "execution_count": 6,
   "metadata": {},
   "outputs": [],
   "source": [
    "class Representation:\n",
    "    def __init__(self, x_train, y_train, x_test, y_test):\n",
    "        x_train = tf.image.rgb_to_grayscale(x_train)\n",
    "        self.x_train = tf.divide(tf.to_float(x_train), tf.constant(255.0))\n",
    "        self.y_train = y_train\n",
    "        x_test = tf.image.rgb_to_grayscale(x_test)\n",
    "        self.x_test = tf.divide(tf.to_float(x_test), tf.constant(255.0))\n",
    "        self.y_test = y_test\n",
    "        self.train_shape = np.shape(self.x_train)\n",
    "        self.test_shape = np.shape(self.x_test)\n",
    "        print(\"Transformed Train Data:\", np.shape(self.x_train))\n",
    "        print(\"Transformed Train Label:\", np.shape(self.y_train))\n",
    "        print(\"Transformed Test Data:\", np.shape(self.x_test))\n",
    "        print(\"Transformed Test Label:\", np.shape(self.y_test))\n",
    "\n",
    "    def get_raw(self):\n",
    "        return (self.x_train, self.y_train, self.x_test, self.y_test)\n",
    "    \n",
    "    def get_flatten(self):\n",
    "        x_train_flat = tf.reshape(self.x_train, [self.train_shape[0], self.train_shape[1]*self.train_shape[2]*self.train_shape[3]]).eval(session=tf.Session())\n",
    "        x_test_flat = tf.reshape(self.x_test, [self.test_shape[0], self.test_shape[1]*self.test_shape[2]*self.test_shape[3]]).eval(session=tf.Session())\n",
    "        return (x_train_flat, self.y_train, x_test_flat, self.y_test)\n",
    "\n",
    "    def get_pca(self, num_components):\n",
    "        x_train_pca = tf.reshape(self.x_train, [self.train_shape[0], self.train_shape[1]*self.train_shape[2]*self.train_shape[3]]).eval(session=tf.Session())\n",
    "        x_test_pca = tf.reshape(self.x_test, [self.test_shape[0], self.test_shape[1]*self.test_shape[2]*self.test_shape[3]]).eval(session=tf.Session())\n",
    "        pca = PCA(n_components=num_components)\n",
    "        x_pca = pca.fit(x_train_pca)\n",
    "        x_train_new = x_pca.transform(x_train_pca)\n",
    "        x_test_new = x_pca.transform(x_test_pca)\n",
    "        return (x_train_new, self.y_train, x_test_new, self.y_test)\n",
    "\n",
    "    def get_lda(self, num_components):\n",
    "        x_train_lda = tf.reshape(self.x_train, [self.train_shape[0], self.train_shape[1]*self.train_shape[2]*self.train_shape[3]]).eval(session=tf.Session())\n",
    "        x_test_lda = tf.reshape(self.x_test, [self.test_shape[0], self.test_shape[1]*self.test_shape[2]*self.test_shape[3]]).eval(session=tf.Session())\n",
    "        lda = LinearDiscriminantAnalysis(n_components=num_components)\n",
    "        x_lda = lda.fit(x_train_lda, self.y_train)\n",
    "        x_train_new = x_lda.transform(x_train_lda)\n",
    "        x_test_new = x_lda.transform(x_test_lda)\n",
    "        return (x_train_new, self.y_train, x_test_new, self.y_test)\n",
    "    \n",
    "    def get_tsne(self, num_components):\n",
    "        x_train_tsne = tf.reshape(self.x_train, [self.train_shape[0], self.train_shape[1]*self.train_shape[2]*self.train_shape[3]]).eval(session=tf.Session())\n",
    "        x_test_tsne = tf.reshape(self.x_test, [self.test_shape[0], self.test_shape[1]*self.test_shape[2]*self.test_shape[3]]).eval(session=tf.Session())\n",
    "        tsne = TSNE(n_components=num_components, init='pca')\n",
    "        x_train_new = tsne.fit_transform(x_train_tsne)\n",
    "        x_test_new = tsne.fit_transform(x_test_tsne)\n",
    "        return (x_train_new, self.y_train, x_test_new, self.y_test)\n",
    "    "
   ]
  },
  {
   "cell_type": "markdown",
   "metadata": {},
   "source": [
    "## Defining models"
   ]
  },
  {
   "cell_type": "code",
   "execution_count": 7,
   "metadata": {},
   "outputs": [],
   "source": [
    "class Models:\n",
    "    def __init__(self, x_train, y_train, x_test, y_test):\n",
    "        self.x_train = x_train\n",
    "        self.y_train = y_train\n",
    "        self.x_test  = x_test\n",
    "        self.y_test  = y_test\n",
    "    \n",
    "    def linear_svm(self, penalty='l2', C=1, loss='squared_hinge'):\n",
    "        clf = svm.LinearSVC(penalty=penalty, C=C)\n",
    "        clf.fit(self.x_train, self.y_train)\n",
    "        pred = np.rint(clf.predict(self.x_test))\n",
    "        return (f1_score(self.y_test, pred, average='macro'), accuracy_score(self.y_test, pred))\n",
    "\n",
    "    \n",
    "    def kern_svm(self, kern='rbf', C=1, gamma='scale'):\n",
    "        clf = svm.SVC(kernel=kern, C=C, gamma=gamma)\n",
    "        clf.fit(self.x_train, self.y_train)\n",
    "        pred = np.rint(clf.predict(self.x_test))\n",
    "        return (f1_score(self.y_test, pred, average='macro'), accuracy_score(self.y_test, pred))\n",
    "\n",
    "    def linear_classifier(self, norm='l2', solver='sag', reg=1):\n",
    "        clf = linear_model.LogisticRegression(penalty=norm, C=reg, solver=solver)\n",
    "        clf.fit(self.x_train, self.y_train)\n",
    "        pred = np.rint(clf.predict(self.x_test))\n",
    "        return (f1_score(self.y_test, pred, average='macro'), accuracy_score(self.y_test, pred))\n",
    "\n",
    "    def mlp(self, solver='adam', activation='relu', h_size=(100,), eta=0.001, l_mode='constant', b_1=0.9, b_2=0.999, eps=1e-8):\n",
    "        clf = MLPClassifier(solver=solver, activation=activation, hidden_layer_sizes=h_size, learning_rate_init=eta,\n",
    "                            learning_rate=l_mode, beta_1=b_1, beta_2=b_2, epsilon=eps)\n",
    "        clf.fit(self.x_train, self.y_train)\n",
    "        pred = np.rint(clf.predict(self.x_test))\n",
    "        return (f1_score(self.y_test, pred, average='macro'), accuracy_score(self.y_test, pred))\n",
    "\n",
    "    def get_dt(self, max_depth):\n",
    "        clf = tree.DecisionTreeClassifier(max_depth=max_depth)\n",
    "        clf.fit(self.x_train, self.y_train)\n",
    "        pred = np.rint(clf.predict(self.x_test))\n",
    "        return (f1_score(self.y_test, pred, average='macro'), accuracy_score(self.y_test, pred))"
   ]
  },
  {
   "cell_type": "markdown",
   "metadata": {},
   "source": [
    "## Running code"
   ]
  },
  {
   "cell_type": "code",
   "execution_count": 8,
   "metadata": {},
   "outputs": [
    {
     "name": "stdout",
     "output_type": "stream",
     "text": [
      "('Total Shape of Train Data:', (50000, 32, 32, 3))\n",
      "('Total Shape of Train Label:', (50000, 1))\n",
      "('Total Shape of Test Data:', (10000, 32, 32, 3))\n",
      "('Total Shape of Test Label:', (10000, 1))\n",
      "('Transformed Train Data:', TensorShape([Dimension(6000), Dimension(32), Dimension(32), Dimension(1)]))\n",
      "('Transformed Train Label:', (6000, 1))\n",
      "('Transformed Test Data:', TensorShape([Dimension(1000), Dimension(32), Dimension(32), Dimension(1)]))\n",
      "('Transformed Test Label:', (1000, 1))\n"
     ]
    }
   ],
   "source": [
    "train_num = 6000\n",
    "test_num = 1000\n",
    "x_train_raw, y_train_raw, x_test_raw, y_test_raw = load_cifar10_data(train_num, test_num)\n",
    "data = Representation(x_train_raw, y_train_raw, x_test_raw, y_test_raw)"
   ]
  },
  {
   "cell_type": "code",
   "execution_count": 9,
   "metadata": {},
   "outputs": [],
   "source": [
    "raw_data = data.get_raw()\n",
    "raw_model = Models(raw_data[0], raw_data[1], raw_data[2], raw_data[3])"
   ]
  },
  {
   "cell_type": "code",
   "execution_count": 13,
   "metadata": {
    "scrolled": true
   },
   "outputs": [
    {
     "ename": "IndexError",
     "evalue": "tuple index out of range",
     "output_type": "error",
     "traceback": [
      "\u001b[0;31m---------------------------------------------------------------------------\u001b[0m",
      "\u001b[0;31mIndexError\u001b[0m                                Traceback (most recent call last)",
      "\u001b[0;32m<ipython-input-13-8a040d95f393>\u001b[0m in \u001b[0;36m<module>\u001b[0;34m()\u001b[0m\n\u001b[0;32m----> 1\u001b[0;31m \u001b[0mtype\u001b[0m\u001b[0;34m(\u001b[0m\u001b[0mraw_data\u001b[0m\u001b[0;34m[\u001b[0m\u001b[0;36m4\u001b[0m\u001b[0;34m]\u001b[0m\u001b[0;34m)\u001b[0m\u001b[0;34m\u001b[0m\u001b[0m\n\u001b[0m",
      "\u001b[0;31mIndexError\u001b[0m: tuple index out of range"
     ]
    }
   ],
   "source": [
    "pca_data = data.get_raw()\n",
    "pca_model = Models(raw_data[0], raw_data[1], raw_data[2], raw_data[3])"
   ]
  },
  {
   "cell_type": "code",
   "execution_count": null,
   "metadata": {},
   "outputs": [],
   "source": []
  }
 ],
 "metadata": {
  "kernelspec": {
   "display_name": "testtt",
   "language": "python",
   "name": "testtt"
  },
  "language_info": {
   "codemirror_mode": {
    "name": "ipython",
    "version": 2
   },
   "file_extension": ".py",
   "mimetype": "text/x-python",
   "name": "python",
   "nbconvert_exporter": "python",
   "pygments_lexer": "ipython2",
   "version": "2.7.15"
  }
 },
 "nbformat": 4,
 "nbformat_minor": 2
}
